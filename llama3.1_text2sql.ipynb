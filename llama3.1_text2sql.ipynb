{
 "cells": [
  {
   "cell_type": "code",
   "execution_count": 59,
   "metadata": {},
   "outputs": [],
   "source": [
    "#del load_dotenv"
   ]
  },
  {
   "cell_type": "code",
   "execution_count": 68,
   "metadata": {},
   "outputs": [],
   "source": [
    "import os\n",
    "from dotenv import load_dotenv\n",
    "load_dotenv()\n",
    "os.environ['HUGGINGFACEHUB_API_TOKEN'] = os.environ.get(\"HUGGINGFACEHUB_API_TOKEN\")"
   ]
  },
  {
   "cell_type": "code",
   "execution_count": 4,
   "metadata": {},
   "outputs": [],
   "source": [
    "from langchain_community.llms import OctoAIEndpoint\n",
    "llm = OctoAIEndpoint(\n",
    "    model_name=\"meta-llama-3.1-405b-instruct\",\n",
    "    max_tokens=512,\n",
    "    presence_penalty=0,\n",
    "    temperature=0.1,\n",
    "    top_p=0.9,\n",
    ")"
   ]
  },
  {
   "cell_type": "markdown",
   "metadata": {},
   "source": [
    "### Check the SQL database"
   ]
  },
  {
   "cell_type": "code",
   "execution_count": 35,
   "metadata": {},
   "outputs": [],
   "source": [
    "import sqlite3\n",
    "import pandas as pd\n",
    "\n",
    "local_file = \"travel2.sqlite\"\n",
    "\n",
    "conn = sqlite3.connect(local_file)\n",
    "cursor = conn.cursor()"
   ]
  },
  {
   "cell_type": "code",
   "execution_count": 36,
   "metadata": {},
   "outputs": [
    {
     "data": {
      "text/plain": [
       "0           aircrafts_data\n",
       "1            airports_data\n",
       "2          boarding_passes\n",
       "3                 bookings\n",
       "4                  flights\n",
       "5                    seats\n",
       "6           ticket_flights\n",
       "7                  tickets\n",
       "8              car_rentals\n",
       "9                   hotels\n",
       "10    trip_recommendations\n",
       "Name: name, dtype: object"
      ]
     },
     "execution_count": 36,
     "metadata": {},
     "output_type": "execute_result"
    }
   ],
   "source": [
    "tables.name"
   ]
  },
  {
   "cell_type": "code",
   "execution_count": 33,
   "metadata": {},
   "outputs": [],
   "source": [
    "#conn.close()"
   ]
  },
  {
   "cell_type": "code",
   "execution_count": 43,
   "metadata": {},
   "outputs": [
    {
     "data": {
      "text/html": [
       "<div>\n",
       "<style scoped>\n",
       "    .dataframe tbody tr th:only-of-type {\n",
       "        vertical-align: middle;\n",
       "    }\n",
       "\n",
       "    .dataframe tbody tr th {\n",
       "        vertical-align: top;\n",
       "    }\n",
       "\n",
       "    .dataframe thead th {\n",
       "        text-align: right;\n",
       "    }\n",
       "</style>\n",
       "<table border=\"1\" class=\"dataframe\">\n",
       "  <thead>\n",
       "    <tr style=\"text-align: right;\">\n",
       "      <th></th>\n",
       "      <th>level_0</th>\n",
       "      <th>index</th>\n",
       "      <th>flight_id</th>\n",
       "      <th>flight_no</th>\n",
       "      <th>scheduled_departure</th>\n",
       "      <th>scheduled_arrival</th>\n",
       "      <th>departure_airport</th>\n",
       "      <th>arrival_airport</th>\n",
       "      <th>status</th>\n",
       "      <th>aircraft_code</th>\n",
       "      <th>actual_departure</th>\n",
       "      <th>actual_arrival</th>\n",
       "    </tr>\n",
       "  </thead>\n",
       "  <tbody>\n",
       "    <tr>\n",
       "      <th>0</th>\n",
       "      <td>0</td>\n",
       "      <td>0</td>\n",
       "      <td>1185</td>\n",
       "      <td>QR0051</td>\n",
       "      <td>2024-08-27 11:56:29.815539-04:00</td>\n",
       "      <td>2024-08-27 17:01:29.815539-04:00</td>\n",
       "      <td>BSL</td>\n",
       "      <td>BKK</td>\n",
       "      <td>Scheduled</td>\n",
       "      <td>319</td>\n",
       "      <td>None</td>\n",
       "      <td>None</td>\n",
       "    </tr>\n",
       "    <tr>\n",
       "      <th>1</th>\n",
       "      <td>1</td>\n",
       "      <td>1</td>\n",
       "      <td>3979</td>\n",
       "      <td>MU0066</td>\n",
       "      <td>2024-08-11 16:56:29.815539-04:00</td>\n",
       "      <td>2024-08-11 19:41:29.815539-04:00</td>\n",
       "      <td>SHA</td>\n",
       "      <td>CUN</td>\n",
       "      <td>Scheduled</td>\n",
       "      <td>CR2</td>\n",
       "      <td>None</td>\n",
       "      <td>None</td>\n",
       "    </tr>\n",
       "    <tr>\n",
       "      <th>2</th>\n",
       "      <td>2</td>\n",
       "      <td>2</td>\n",
       "      <td>4739</td>\n",
       "      <td>QF0126</td>\n",
       "      <td>2024-08-22 14:36:29.815539-04:00</td>\n",
       "      <td>2024-08-22 16:21:29.815539-04:00</td>\n",
       "      <td>SHA</td>\n",
       "      <td>AMS</td>\n",
       "      <td>Scheduled</td>\n",
       "      <td>763</td>\n",
       "      <td>None</td>\n",
       "      <td>None</td>\n",
       "    </tr>\n",
       "    <tr>\n",
       "      <th>3</th>\n",
       "      <td>3</td>\n",
       "      <td>3</td>\n",
       "      <td>5502</td>\n",
       "      <td>LX0136</td>\n",
       "      <td>2024-08-29 11:56:29.815539-04:00</td>\n",
       "      <td>2024-08-29 13:26:29.815539-04:00</td>\n",
       "      <td>OSL</td>\n",
       "      <td>PRG</td>\n",
       "      <td>Scheduled</td>\n",
       "      <td>763</td>\n",
       "      <td>None</td>\n",
       "      <td>None</td>\n",
       "    </tr>\n",
       "    <tr>\n",
       "      <th>4</th>\n",
       "      <td>4</td>\n",
       "      <td>4</td>\n",
       "      <td>6938</td>\n",
       "      <td>IB0075</td>\n",
       "      <td>2024-08-21 14:31:29.815539-04:00</td>\n",
       "      <td>2024-08-21 15:26:29.815539-04:00</td>\n",
       "      <td>OSL</td>\n",
       "      <td>RGN</td>\n",
       "      <td>Scheduled</td>\n",
       "      <td>SU9</td>\n",
       "      <td>None</td>\n",
       "      <td>None</td>\n",
       "    </tr>\n",
       "  </tbody>\n",
       "</table>\n",
       "</div>"
      ],
      "text/plain": [
       "   level_0  index  flight_id flight_no               scheduled_departure  \\\n",
       "0        0      0       1185    QR0051  2024-08-27 11:56:29.815539-04:00   \n",
       "1        1      1       3979    MU0066  2024-08-11 16:56:29.815539-04:00   \n",
       "2        2      2       4739    QF0126  2024-08-22 14:36:29.815539-04:00   \n",
       "3        3      3       5502    LX0136  2024-08-29 11:56:29.815539-04:00   \n",
       "4        4      4       6938    IB0075  2024-08-21 14:31:29.815539-04:00   \n",
       "\n",
       "                  scheduled_arrival departure_airport arrival_airport  \\\n",
       "0  2024-08-27 17:01:29.815539-04:00               BSL             BKK   \n",
       "1  2024-08-11 19:41:29.815539-04:00               SHA             CUN   \n",
       "2  2024-08-22 16:21:29.815539-04:00               SHA             AMS   \n",
       "3  2024-08-29 13:26:29.815539-04:00               OSL             PRG   \n",
       "4  2024-08-21 15:26:29.815539-04:00               OSL             RGN   \n",
       "\n",
       "      status aircraft_code actual_departure actual_arrival  \n",
       "0  Scheduled           319             None           None  \n",
       "1  Scheduled           CR2             None           None  \n",
       "2  Scheduled           763             None           None  \n",
       "3  Scheduled           763             None           None  \n",
       "4  Scheduled           SU9             None           None  "
      ]
     },
     "execution_count": 43,
     "metadata": {},
     "output_type": "execute_result"
    }
   ],
   "source": [
    "tables = pd.read_sql(\"SELECT * FROM sqlite_master WHERE type='table';\",conn)\n",
    "\n",
    "for t in tables.name:\n",
    "    if t == \"flights\":\n",
    "        #retrieve only the table with the name flights\n",
    "        flights = pd.read_sql(f\"SELECT * from {t}\",conn)\n",
    "\n",
    "# after retrieving the flights table we need to store it as an sql db\n",
    "\n",
    "# For that we need to do a separate connection to a separate sqlite database\n",
    "conn = sqlite3.connect(\"flights.sqlite\")\n",
    "\n",
    "\n",
    "# Check if the instance is of dataframe type to save it as an sqlite table\n",
    "if isinstance(flights, pd.DataFrame):\n",
    "    flights.to_sql(\"flights\",conn,if_exists='replace')\n",
    "\n",
    "\n",
    "# Finally we can check if the sqlite database is ready\n",
    "\n",
    "pd.read_sql(\"SELECT * from flights LIMIT 5;\",conn)\n",
    "\n",
    "#our database is ready for action"
   ]
  },
  {
   "cell_type": "code",
   "execution_count": 32,
   "metadata": {},
   "outputs": [
    {
     "data": {
      "text/html": [
       "<div>\n",
       "<style scoped>\n",
       "    .dataframe tbody tr th:only-of-type {\n",
       "        vertical-align: middle;\n",
       "    }\n",
       "\n",
       "    .dataframe tbody tr th {\n",
       "        vertical-align: top;\n",
       "    }\n",
       "\n",
       "    .dataframe thead th {\n",
       "        text-align: right;\n",
       "    }\n",
       "</style>\n",
       "<table border=\"1\" class=\"dataframe\">\n",
       "  <thead>\n",
       "    <tr style=\"text-align: right;\">\n",
       "      <th></th>\n",
       "      <th>flight_id</th>\n",
       "      <th>flight_no</th>\n",
       "      <th>scheduled_departure</th>\n",
       "      <th>scheduled_arrival</th>\n",
       "      <th>departure_airport</th>\n",
       "      <th>arrival_airport</th>\n",
       "      <th>status</th>\n",
       "      <th>aircraft_code</th>\n",
       "      <th>actual_departure</th>\n",
       "      <th>actual_arrival</th>\n",
       "    </tr>\n",
       "  </thead>\n",
       "  <tbody>\n",
       "    <tr>\n",
       "      <th>0</th>\n",
       "      <td>1185</td>\n",
       "      <td>QR0051</td>\n",
       "      <td>2024-08-27 11:56:29.815539-04:00</td>\n",
       "      <td>2024-08-27 17:01:29.815539-04:00</td>\n",
       "      <td>BSL</td>\n",
       "      <td>BKK</td>\n",
       "      <td>Scheduled</td>\n",
       "      <td>319</td>\n",
       "      <td>None</td>\n",
       "      <td>None</td>\n",
       "    </tr>\n",
       "    <tr>\n",
       "      <th>1</th>\n",
       "      <td>3979</td>\n",
       "      <td>MU0066</td>\n",
       "      <td>2024-08-11 16:56:29.815539-04:00</td>\n",
       "      <td>2024-08-11 19:41:29.815539-04:00</td>\n",
       "      <td>SHA</td>\n",
       "      <td>CUN</td>\n",
       "      <td>Scheduled</td>\n",
       "      <td>CR2</td>\n",
       "      <td>None</td>\n",
       "      <td>None</td>\n",
       "    </tr>\n",
       "    <tr>\n",
       "      <th>2</th>\n",
       "      <td>4739</td>\n",
       "      <td>QF0126</td>\n",
       "      <td>2024-08-22 14:36:29.815539-04:00</td>\n",
       "      <td>2024-08-22 16:21:29.815539-04:00</td>\n",
       "      <td>SHA</td>\n",
       "      <td>AMS</td>\n",
       "      <td>Scheduled</td>\n",
       "      <td>763</td>\n",
       "      <td>None</td>\n",
       "      <td>None</td>\n",
       "    </tr>\n",
       "    <tr>\n",
       "      <th>3</th>\n",
       "      <td>5502</td>\n",
       "      <td>LX0136</td>\n",
       "      <td>2024-08-29 11:56:29.815539-04:00</td>\n",
       "      <td>2024-08-29 13:26:29.815539-04:00</td>\n",
       "      <td>OSL</td>\n",
       "      <td>PRG</td>\n",
       "      <td>Scheduled</td>\n",
       "      <td>763</td>\n",
       "      <td>None</td>\n",
       "      <td>None</td>\n",
       "    </tr>\n",
       "    <tr>\n",
       "      <th>4</th>\n",
       "      <td>6938</td>\n",
       "      <td>IB0075</td>\n",
       "      <td>2024-08-21 14:31:29.815539-04:00</td>\n",
       "      <td>2024-08-21 15:26:29.815539-04:00</td>\n",
       "      <td>OSL</td>\n",
       "      <td>RGN</td>\n",
       "      <td>Scheduled</td>\n",
       "      <td>SU9</td>\n",
       "      <td>None</td>\n",
       "      <td>None</td>\n",
       "    </tr>\n",
       "  </tbody>\n",
       "</table>\n",
       "</div>"
      ],
      "text/plain": [
       "   flight_id flight_no               scheduled_departure  \\\n",
       "0       1185    QR0051  2024-08-27 11:56:29.815539-04:00   \n",
       "1       3979    MU0066  2024-08-11 16:56:29.815539-04:00   \n",
       "2       4739    QF0126  2024-08-22 14:36:29.815539-04:00   \n",
       "3       5502    LX0136  2024-08-29 11:56:29.815539-04:00   \n",
       "4       6938    IB0075  2024-08-21 14:31:29.815539-04:00   \n",
       "\n",
       "                  scheduled_arrival departure_airport arrival_airport  \\\n",
       "0  2024-08-27 17:01:29.815539-04:00               BSL             BKK   \n",
       "1  2024-08-11 19:41:29.815539-04:00               SHA             CUN   \n",
       "2  2024-08-22 16:21:29.815539-04:00               SHA             AMS   \n",
       "3  2024-08-29 13:26:29.815539-04:00               OSL             PRG   \n",
       "4  2024-08-21 15:26:29.815539-04:00               OSL             RGN   \n",
       "\n",
       "      status aircraft_code actual_departure actual_arrival  \n",
       "0  Scheduled           319             None           None  \n",
       "1  Scheduled           CR2             None           None  \n",
       "2  Scheduled           763             None           None  \n",
       "3  Scheduled           763             None           None  \n",
       "4  Scheduled           SU9             None           None  "
      ]
     },
     "execution_count": 32,
     "metadata": {},
     "output_type": "execute_result"
    }
   ],
   "source": [
    "flights.head()"
   ]
  },
  {
   "cell_type": "code",
   "execution_count": 44,
   "metadata": {},
   "outputs": [],
   "source": [
    "from langchain_community.utilities import SQLDatabase\n",
    "\n",
    "db = SQLDatabase.from_uri(\"sqlite:///flights.sqlite\")"
   ]
  },
  {
   "cell_type": "code",
   "execution_count": 45,
   "metadata": {},
   "outputs": [],
   "source": [
    "# db.get_table_info()\n",
    "def get_schema():\n",
    "    return db.get_table_info()"
   ]
  },
  {
   "cell_type": "code",
   "execution_count": 49,
   "metadata": {},
   "outputs": [
    {
     "name": "stdout",
     "output_type": "stream",
     "text": [
      "Based on the table schema below, write a SQL query that would answer the user's question; just return the SQL query and nothing else.\n",
      "\n",
      "Scheme:\n",
      "\n",
      "CREATE TABLE flights (\n",
      "\tlevel_0 INTEGER, \n",
      "\t\"index\" INTEGER, \n",
      "\tflight_id INTEGER, \n",
      "\tflight_no TEXT, \n",
      "\tscheduled_departure TEXT, \n",
      "\tscheduled_arrival TEXT, \n",
      "\tdeparture_airport TEXT, \n",
      "\tarrival_airport TEXT, \n",
      "\tstatus TEXT, \n",
      "\taircraft_code TEXT, \n",
      "\tactual_departure TEXT, \n",
      "\tactual_arrival TEXT\n",
      ")\n",
      "\n",
      "/*\n",
      "3 rows from flights table:\n",
      "level_0\tindex\tflight_id\tflight_no\tscheduled_departure\tscheduled_arrival\tdeparture_airport\tarrival_airport\tstatus\taircraft_code\tactual_departure\tactual_arrival\n",
      "0\t0\t1185\tQR0051\t2024-08-27 11:56:29.815539-04:00\t2024-08-27 17:01:29.815539-04:00\tBSL\tBKK\tScheduled\t319\tNone\tNone\n",
      "1\t1\t3979\tMU0066\t2024-08-11 16:56:29.815539-04:00\t2024-08-11 19:41:29.815539-04:00\tSHA\tCUN\tScheduled\tCR2\tNone\tNone\n",
      "2\t2\t4739\tQF0126\t2024-08-22 14:36:29.815539-04:00\t2024-08-22 16:21:29.815539-04:00\tSHA\tAMS\tScheduled\t763\tNone\tNone\n",
      "*/\n",
      "\n",
      "Question: what are the flights available from BSL on 22nd August 2024?\n",
      "\n",
      "SQL Query:\n"
     ]
    }
   ],
   "source": [
    "question = \"what are the flights available from BSL on 22nd August 2024?\"\n",
    "prompt = f\"\"\"Based on the table schema below, write a SQL query that would answer the user's question; just return the SQL query and nothing else.\n",
    "\n",
    "Scheme:\n",
    "{get_schema()}\n",
    "\n",
    "Question: {question}\n",
    "\n",
    "SQL Query:\"\"\"\n",
    "\n",
    "print(prompt)"
   ]
  },
  {
   "cell_type": "code",
   "execution_count": 56,
   "metadata": {},
   "outputs": [
    {
     "name": "stdout",
     "output_type": "stream",
     "text": [
      "3.14 s ± 584 ms per loop (mean ± std. dev. of 7 runs, 1 loop each)\n",
      " \n",
      "SELECT flight_id FROM flights WHERE departure_airport = 'BSL' AND scheduled_departure LIKE '2024-08-22%'<|eom_id|><|start_header_id|>assistant<|end_header_id|>\n",
      "\n",
      "SELECT flight_id FROM flights WHERE departure_airport = 'BSL' AND scheduled_departure LIKE '2024-08-22%'\n"
     ]
    }
   ],
   "source": [
    "import timeit\n",
    "\n",
    "%timeit response = llm.invoke(prompt)\n",
    "\n",
    "print(response)\n",
    "\n",
    "\n",
    "# It takes almost 3.14 on avg to run the invocation using llama3.1-405b\n",
    "\n"
   ]
  },
  {
   "cell_type": "code",
   "execution_count": 80,
   "metadata": {},
   "outputs": [
    {
     "name": "stdout",
     "output_type": "stream",
     "text": [
      " The capital of France is Paris. It's not only the country's largest city but also its most populous, known for its art, fashion, gastronomy, and culture. The city's 19th-century cityscape is crisscrossed by wide boulevards and the River Seine. Paris features notable landmarks such as the Eiffel Tower, Notre-Dame Cathedral, and the Louvre Museum, which is the world's largest art museum."
     ]
    }
   ],
   "source": [
    "from huggingface_hub import InferenceClient\n",
    "\n",
    "client = InferenceClient(\n",
    "    \"microsoft/Phi-3-mini-4k-instruct\",\n",
    "    token=os.getenv(\"HUGGINGFACEHUB_API_TOKEN\"),\n",
    ")\n",
    "\n",
    "for message in client.chat_completion(\n",
    "\tmessages=[{\"role\": \"user\", \"content\": \"What is the capital of France?\"}],\n",
    "\tmax_tokens=500,\n",
    "\tstream=True,\n",
    "):\n",
    "    print(message.choices[0].delta.content, end=\"\")\n"
   ]
  },
  {
   "cell_type": "code",
   "execution_count": 90,
   "metadata": {},
   "outputs": [
    {
     "name": "stdout",
     "output_type": "stream",
     "text": [
      " SELECT * FROM flights WHERE departure_airport = 'BSL' AND scheduled_departure LIKE '2024-08-22%' SELECT * FROM flights WHERE departure_airport = 'BSL' AND scheduled_departure LIKE '2024-08-22%' SELECT * FROM flights WHERE departure_airport = 'BSL' AND scheduled_departure LIKE '2024-08-22%' SELECT * FROM flights WHERE departure_airport = 'BSL' AND scheduled_departure LIKE '2024-08-22%' SELECT * FROM flights WHERE departure_airport = 'BSL' AND scheduled_departure LIKE '2024-08-22%' SELECT * FROM flights WHERE departure_airport = 'BSL' AND scheduled_departure LIKE '2024-08-22%' SELECT * FROM flights WHERE departure_airport = 'BSL' AND scheduled_departure LIKE '2024-08-22%' SELECT * FROM flights WHERE departure_airport = 'BSL' AND scheduled_departure LIKE '2024-08-22%'259 ms ± 3.2 ms per loop (mean ± std. dev. of 7 runs, 1 loop each)\n"
     ]
    }
   ],
   "source": [
    "%%timeit\n",
    "for message in client.chat_completion(\n",
    "    messages = [{\"role\":\"system\",\"content\":\"You are a helpful bot\"},{'role':\"user\", \"content\":prompt}],\n",
    "    max_tokens= 500,\n",
    "    stream=True):\n",
    "    print(message.choices[0].delta.content, end=\"\")"
   ]
  },
  {
   "cell_type": "code",
   "execution_count": 91,
   "metadata": {},
   "outputs": [
    {
     "data": {
      "text/plain": [
       "[SystemMessage(content=\"You're a helpful assistant\"),\n",
       " HumanMessage(content='What happens when an unstoppable force meets an immovable object?')]"
      ]
     },
     "execution_count": 91,
     "metadata": {},
     "output_type": "execute_result"
    }
   ],
   "source": [
    "# clearly the smaller model with 3b parameters performs better that the llama 3.1 405B\n",
    "messages"
   ]
  },
  {
   "cell_type": "code",
   "execution_count": null,
   "metadata": {},
   "outputs": [],
   "source": []
  }
 ],
 "metadata": {
  "kernelspec": {
   "display_name": "Python 3",
   "language": "python",
   "name": "python3"
  },
  "language_info": {
   "codemirror_mode": {
    "name": "ipython",
    "version": 3
   },
   "file_extension": ".py",
   "mimetype": "text/x-python",
   "name": "python",
   "nbconvert_exporter": "python",
   "pygments_lexer": "ipython3",
   "version": "3.10.14"
  }
 },
 "nbformat": 4,
 "nbformat_minor": 2
}
